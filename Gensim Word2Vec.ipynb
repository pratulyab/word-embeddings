{
 "cells": [
  {
   "cell_type": "code",
   "execution_count": 1,
   "metadata": {},
   "outputs": [],
   "source": [
    "import gensim\n",
    "from gensim.models import word2vec\n",
    "from gensim.models import KeyedVectors\n",
    "from sklearn.metrics.pairwise import cosine_similarity\n",
    "import numpy as np"
   ]
  },
  {
   "cell_type": "code",
   "execution_count": 2,
   "metadata": {},
   "outputs": [],
   "source": [
    "w2v = KeyedVectors.load_word2vec_format('../datasets/GoogleNews-vectors-negative300.bin', binary=True)"
   ]
  },
  {
   "cell_type": "code",
   "execution_count": 4,
   "metadata": {},
   "outputs": [],
   "source": [
    "# w2v['google']"
   ]
  },
  {
   "cell_type": "code",
   "execution_count": 142,
   "metadata": {},
   "outputs": [],
   "source": [
    "v1 = w2v[\"rupee\"] \n",
    "v2 = w2v[\"dollar\"]"
   ]
  },
  {
   "cell_type": "code",
   "execution_count": 93,
   "metadata": {},
   "outputs": [
    {
     "name": "stdout",
     "output_type": "stream",
     "text": [
      "(300,)\n",
      "(300,)\n"
     ]
    }
   ],
   "source": [
    "print(v1.shape)\n",
    "print(v2.shape)"
   ]
  },
  {
   "cell_type": "code",
   "execution_count": 143,
   "metadata": {},
   "outputs": [
    {
     "data": {
      "text/plain": [
       "array([[0.62001854]], dtype=float32)"
      ]
     },
     "execution_count": 143,
     "metadata": {},
     "output_type": "execute_result"
    }
   ],
   "source": [
    "cosine_similarity([v1],[v2])"
   ]
  },
  {
   "cell_type": "code",
   "execution_count": 116,
   "metadata": {},
   "outputs": [
    {
     "data": {
      "text/plain": [
       "[('disparities', 0.8024708032608032),\n",
       " ('discrepancy', 0.7583654522895813),\n",
       " ('inequity', 0.7000349760055542),\n",
       " ('inequities', 0.6604803800582886),\n",
       " ('widening_gap', 0.6310858726501465),\n",
       " ('inequalities', 0.6251864433288574),\n",
       " ('imbalance', 0.6233763694763184),\n",
       " ('gap', 0.6184989213943481),\n",
       " ('racial_disparities', 0.6160184144973755),\n",
       " ('inequality', 0.6087830662727356)]"
      ]
     },
     "execution_count": 116,
     "metadata": {},
     "output_type": "execute_result"
    }
   ],
   "source": [
    "w2v.most_similar('disparity')"
   ]
  },
  {
   "cell_type": "code",
   "execution_count": 146,
   "metadata": {},
   "outputs": [],
   "source": [
    "def find_odd_one_out(words):    \n",
    "\n",
    "    word_vectors = [w2v[word] for word in words]\n",
    "    mean_vector = np.mean(word_vectors, axis=0)\n",
    "    print(mean_vector.shape)\n",
    "    \n",
    "    odd_one = None\n",
    "    min_similarity = 1\n",
    "    \n",
    "    for word in words:\n",
    "        sim = cosine_similarity( [w2v[word]], [mean_vector] )\n",
    "        if sim < min_similarity:\n",
    "            min_similarity = sim\n",
    "            odd_one = word\n",
    "    \n",
    "        print(\"Similarity between mean vector and {} = {}\".format(word, min_similarity))\n",
    "            \n",
    "    return odd_one"
   ]
  },
  {
   "cell_type": "code",
   "execution_count": 152,
   "metadata": {},
   "outputs": [
    {
     "name": "stdout",
     "output_type": "stream",
     "text": [
      "(300,)\n",
      "Similarity between mean vector and Apple = [[0.75132143]]\n",
      "Similarity between mean vector and Google = [[0.75132143]]\n",
      "Similarity between mean vector and Facebook = [[0.6587838]]\n",
      "Similarity between mean vector and Microsoft = [[0.6587838]]\n",
      "Similarity between mean vector and Zara = [[0.44133237]]\n"
     ]
    },
    {
     "data": {
      "text/plain": [
       "'Zara'"
      ]
     },
     "execution_count": 152,
     "metadata": {},
     "output_type": "execute_result"
    }
   ],
   "source": [
    "find_odd_one_out([\"Apple\", \"Google\", \"Facebook\", \"Microsoft\", \"Zara\"])"
   ]
  },
  {
   "cell_type": "code",
   "execution_count": null,
   "metadata": {},
   "outputs": [],
   "source": []
  },
  {
   "cell_type": "code",
   "execution_count": null,
   "metadata": {},
   "outputs": [],
   "source": []
  },
  {
   "cell_type": "code",
   "execution_count": 153,
   "metadata": {},
   "outputs": [
    {
     "data": {
      "text/plain": [
       "3000000"
      ]
     },
     "execution_count": 153,
     "metadata": {},
     "output_type": "execute_result"
    }
   ],
   "source": [
    "len(w2v.vocab)"
   ]
  },
  {
   "cell_type": "code",
   "execution_count": 154,
   "metadata": {},
   "outputs": [
    {
     "data": {
      "text/plain": [
       "(300,)"
      ]
     },
     "execution_count": 154,
     "metadata": {},
     "output_type": "execute_result"
    }
   ],
   "source": [
    "w2v[\"man\"].shape"
   ]
  },
  {
   "cell_type": "code",
   "execution_count": 60,
   "metadata": {},
   "outputs": [],
   "source": [
    "# w2v.vocab.keys()"
   ]
  },
  {
   "cell_type": "code",
   "execution_count": 160,
   "metadata": {},
   "outputs": [],
   "source": [
    "# Bad Implementation. Exhaustive Search\n",
    "def find_analogy(words):\n",
    "    # a:b :: c:?\n",
    "    \n",
    "    max_similarity = -1.01\n",
    "    \n",
    "    d = None\n",
    "    \n",
    "    vocabulary = w2v.vocab.keys()\n",
    "    \n",
    "    v_a, v_b, v_c = [w2v[w] for w in words]\n",
    "    \n",
    "    relation_1 = v_b - v_a\n",
    "    \n",
    "    # To find word d such that similarity(|v_b - v_a|, |v_d - v|c|) is maximum\n",
    "    \n",
    "    for word in vocabulary:\n",
    "        if word in words:\n",
    "            continue\n",
    "        \n",
    "        v_d = w2v[word]\n",
    "        relation_2 = v_d - v_c\n",
    "        sim = cosine_similarity([relation_1], [relation_2])\n",
    "        \n",
    "        if sim > max_similarity:\n",
    "            max_similarity = sim\n",
    "            d = word\n",
    "            \n",
    "    return d"
   ]
  },
  {
   "cell_type": "code",
   "execution_count": 162,
   "metadata": {},
   "outputs": [
    {
     "name": "stdout",
     "output_type": "stream",
     "text": [
      "queen\n",
      "Time Taken: 0:21:56.538407\n"
     ]
    }
   ],
   "source": [
    "from datetime import datetime\n",
    "t0 = datetime.now()\n",
    "\n",
    "print(find_analogy([\"man\", \"woman\", \"king\"]))\n",
    "\n",
    "print(\"Time Taken:\", datetime.now() - t0)"
   ]
  },
  {
   "cell_type": "code",
   "execution_count": 164,
   "metadata": {},
   "outputs": [
    {
     "name": "stdout",
     "output_type": "stream",
     "text": [
      "[('queen', 0.7118192911148071)]\n",
      "Time Taken: 0:00:01.558389\n"
     ]
    }
   ],
   "source": [
    "# Using the built-in method\n",
    "t0 = datetime.now()\n",
    "print(w2v.most_similar(positive=['woman', 'king'], negative=['man'], topn=1))\n",
    "print(\"Time Taken:\", datetime.now() - t0)"
   ]
  },
  {
   "cell_type": "code",
   "execution_count": 165,
   "metadata": {},
   "outputs": [],
   "source": [
    "import re\n",
    "f = open('../datasets/sherlock.txt')\n",
    "text = f.read()\n",
    "f.close()\n",
    "\n",
    "data = text[3433:]\n",
    "\n",
    "data = data.lower()\n",
    "data = re.sub('[^A-Za-z.]+', ' ', data)\n",
    "data = data.split('.')\n",
    "\n",
    "for i in range(len(data)):\n",
    "    data[i] = data[i].split()"
   ]
  },
  {
   "cell_type": "code",
   "execution_count": 166,
   "metadata": {},
   "outputs": [],
   "source": [
    "from gensim.models import Word2Vec\n",
    "model = Word2Vec(data, size=300, window=10, min_count=1)"
   ]
  },
  {
   "cell_type": "code",
   "execution_count": 167,
   "metadata": {},
   "outputs": [
    {
     "data": {
      "text/plain": [
       "[('street', 0.9737527370452881),\n",
       " ('station', 0.9403195977210999),\n",
       " ('hansom', 0.9368016719818115),\n",
       " ('oxford', 0.9342535138130188),\n",
       " ('gate', 0.9330577254295349),\n",
       " ('godolphin', 0.9291698932647705),\n",
       " ('strolled', 0.9271606206893921),\n",
       " ('farrington', 0.9251514077186584),\n",
       " ('breakfast', 0.9219212532043457),\n",
       " ('branching', 0.9175331592559814)]"
      ]
     },
     "execution_count": 167,
     "metadata": {},
     "output_type": "execute_result"
    }
   ],
   "source": [
    "model.wv.most_similar('baker')"
   ]
  },
  {
   "cell_type": "code",
   "execution_count": 168,
   "metadata": {},
   "outputs": [],
   "source": [
    "model.wv.save_word2vec_format(\"sherlock_w2v.bin\")"
   ]
  },
  {
   "cell_type": "code",
   "execution_count": null,
   "metadata": {},
   "outputs": [],
   "source": []
  }
 ],
 "metadata": {
  "kernelspec": {
   "display_name": "Python 3",
   "language": "python",
   "name": "python3"
  },
  "language_info": {
   "codemirror_mode": {
    "name": "ipython",
    "version": 3
   },
   "file_extension": ".py",
   "mimetype": "text/x-python",
   "name": "python",
   "nbconvert_exporter": "python",
   "pygments_lexer": "ipython3",
   "version": "3.7.0"
  }
 },
 "nbformat": 4,
 "nbformat_minor": 2
}
